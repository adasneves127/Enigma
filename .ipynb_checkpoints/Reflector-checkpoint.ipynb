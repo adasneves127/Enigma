{
 "cells": [
  {
   "cell_type": "code",
   "execution_count": 2,
   "id": "9a42956b-cdb3-4109-9975-1eb6f5c20018",
   "metadata": {},
   "outputs": [],
   "source": [
    "alphabet = [chr(x) for x in range(ord('a'), ord('z')+1)]"
   ]
  },
  {
   "cell_type": "code",
   "execution_count": null,
   "id": "519846ca-a443-40c2-9a2b-df5c2da51eb0",
   "metadata": {},
   "outputs": [],
   "source": []
  }
 ],
 "metadata": {
  "kernelspec": {
   "display_name": "Python 3 (ipykernel)",
   "language": "python",
   "name": "python3"
  },
  "language_info": {
   "codemirror_mode": {
    "name": "ipython",
    "version": 3
   },
   "file_extension": ".py",
   "mimetype": "text/x-python",
   "name": "python",
   "nbconvert_exporter": "python",
   "pygments_lexer": "ipython3",
   "version": "3.10.12"
  }
 },
 "nbformat": 4,
 "nbformat_minor": 5
}
