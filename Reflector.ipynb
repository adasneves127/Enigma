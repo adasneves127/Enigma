{
 "cells": [
  {
   "cell_type": "code",
   "execution_count": 2,
   "id": "9a42956b-cdb3-4109-9975-1eb6f5c20018",
   "metadata": {},
   "outputs": [],
   "source": [
    "alphabet = [chr(x) for x in range(ord('a'), ord('z')+1)]"
   ]
  },
  {
   "cell_type": "code",
   "execution_count": 4,
   "id": "519846ca-a443-40c2-9a2b-df5c2da51eb0",
   "metadata": {},
   "outputs": [
    {
     "name": "stdout",
     "output_type": "stream",
     "text": [
      "['a', 'b', 'c', 'd', 'e', 'f', 'g', 'h', 'i', 'j', 'k', 'l', 'm', 'n', 'o', 'p', 'q', 'r', 's', 't', 'u', 'v', 'w', 'x', 'y', 'z']\n"
     ]
    }
   ],
   "source": [
    "print(alphabet)"
   ]
  },
  {
   "cell_type": "code",
   "execution_count": 5,
   "id": "fda98938-3ddf-4417-8d4c-5c3292f668ca",
   "metadata": {},
   "outputs": [],
   "source": [
    "import random"
   ]
  },
  {
   "cell_type": "code",
   "execution_count": 6,
   "id": "5f21bb16-4668-4836-a831-744b4e09e810",
   "metadata": {},
   "outputs": [],
   "source": [
    "pairs = []\n",
    "while len(alphabet) != 0:\n",
    "    x = alphabet.pop(random.randint(0, len(alphabet)-1))\n",
    "    y = alphabet.pop(random.randint(0, len(alphabet)-1))\n",
    "    pairs.append((x,y))\n",
    "\n"
   ]
  },
  {
   "cell_type": "code",
   "execution_count": 7,
   "id": "2ae1e667-a3c0-4b16-9b77-24709cdad735",
   "metadata": {},
   "outputs": [
    {
     "data": {
      "text/plain": [
       "[('d', 'k'),\n",
       " ('w', 'o'),\n",
       " ('e', 'm'),\n",
       " ('j', 'c'),\n",
       " ('h', 'p'),\n",
       " ('g', 'r'),\n",
       " ('b', 'x'),\n",
       " ('i', 'u'),\n",
       " ('n', 'y'),\n",
       " ('q', 'f'),\n",
       " ('s', 't'),\n",
       " ('v', 'l'),\n",
       " ('z', 'a')]"
      ]
     },
     "execution_count": 7,
     "metadata": {},
     "output_type": "execute_result"
    }
   ],
   "source": [
    "pairs"
   ]
  },
  {
   "cell_type": "code",
   "execution_count": 8,
   "id": "808b92d2-d54c-4454-b36b-4f5fb31780cf",
   "metadata": {},
   "outputs": [],
   "source": [
    "output = [\"\"] * 26\n",
    "for pair in pairs:\n",
    "    idx_x = ord(pair[0]) - ord('a')\n",
    "    idx_y = ord(pair[1]) - ord('a')\n",
    "    output[idx_x] = pair[1]\n",
    "    output[idx_y] = pair[0]\n"
   ]
  },
  {
   "cell_type": "code",
   "execution_count": 9,
   "id": "8cf812c8-4b27-486b-858f-1db12a0289c6",
   "metadata": {},
   "outputs": [
    {
     "data": {
      "text/plain": [
       "['z',\n",
       " 'x',\n",
       " 'j',\n",
       " 'k',\n",
       " 'm',\n",
       " 'q',\n",
       " 'r',\n",
       " 'p',\n",
       " 'u',\n",
       " 'c',\n",
       " 'd',\n",
       " 'v',\n",
       " 'e',\n",
       " 'y',\n",
       " 'w',\n",
       " 'h',\n",
       " 'f',\n",
       " 'g',\n",
       " 't',\n",
       " 's',\n",
       " 'i',\n",
       " 'l',\n",
       " 'o',\n",
       " 'b',\n",
       " 'n',\n",
       " 'a']"
      ]
     },
     "execution_count": 9,
     "metadata": {},
     "output_type": "execute_result"
    }
   ],
   "source": [
    "output"
   ]
  },
  {
   "cell_type": "code",
   "execution_count": 10,
   "id": "19b1deed-44ff-4631-9355-7cf81466260e",
   "metadata": {},
   "outputs": [
    {
     "data": {
      "text/plain": [
       "'zxjkmqrpucdveywhfgtsilobna'"
      ]
     },
     "execution_count": 10,
     "metadata": {},
     "output_type": "execute_result"
    }
   ],
   "source": [
    "\"\".join(output)"
   ]
  },
  {
   "cell_type": "code",
   "execution_count": 11,
   "id": "b67dc651-e6d2-4127-8246-c082722b26f7",
   "metadata": {},
   "outputs": [
    {
     "data": {
      "text/plain": [
       "'ZXJKMQRPUCDVEYWHFGTSILOBNA'"
      ]
     },
     "execution_count": 11,
     "metadata": {},
     "output_type": "execute_result"
    }
   ],
   "source": [
    "\"\".join([x.upper() for x in output])"
   ]
  }
 ],
 "metadata": {
  "kernelspec": {
   "display_name": "Python 3 (ipykernel)",
   "language": "python",
   "name": "python3"
  },
  "language_info": {
   "codemirror_mode": {
    "name": "ipython",
    "version": 3
   },
   "file_extension": ".py",
   "mimetype": "text/x-python",
   "name": "python",
   "nbconvert_exporter": "python",
   "pygments_lexer": "ipython3",
   "version": "3.10.12"
  }
 },
 "nbformat": 4,
 "nbformat_minor": 5
}
